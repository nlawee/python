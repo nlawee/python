{
 "cells": [
  {
   "cell_type": "markdown",
   "id": "fc1b63ae",
   "metadata": {},
   "source": [
    "# Create the TranspositionCipher class"
   ]
  },
  {
   "cell_type": "code",
   "execution_count": 65,
   "id": "24484932",
   "metadata": {},
   "outputs": [],
   "source": [
    "import math\n",
    "\n",
    "class TranspositionCipher(object): \n",
    "        \n",
    "    def __init__(self, key, message):\n",
    "        self.key = key\n",
    "        self.message = message\n",
    "        \n",
    "    def encrypt_message(self,key,message):\n",
    "        encryptedText = [''] * key\n",
    "        message_length = len(message)\n",
    "        for j in range(key):\n",
    "            i = j\n",
    "            while i < message_length:\n",
    "                encryptedText[j] += message[i]\n",
    "                i += key\n",
    "        return ''.join(encryptedText)\n",
    "    \n",
    "    def decrypt_message(self,key,message):\n",
    "        message_length = len(message)\n",
    "        numOfCols = int(math.ceil(len(message)/float(key)))\n",
    "        numOfRows = key\n",
    "        numOfEmpty = (numOfCols * numOfRows) - message_length\n",
    "        decryptedText = [''] * numOfCols\n",
    "        \n",
    "        col = 0\n",
    "        row = 0\n",
    "        \n",
    "        for i in message:\n",
    "            decryptedText[col] += i\n",
    "            col += 1\n",
    "            if (col == numOfCols) or (col == numOfCols - 1 and row >= numOfRows - numOfEmpty):\n",
    "                col = 0\n",
    "                row += 1\n",
    "        return ''.join(decryptedText)"
   ]
  },
  {
   "cell_type": "markdown",
   "id": "addc9042",
   "metadata": {},
   "source": [
    "# Test the code by encrypting and decrypting a message"
   ]
  },
  {
   "cell_type": "code",
   "execution_count": 99,
   "id": "8c8f8aa3",
   "metadata": {},
   "outputs": [
    {
     "name": "stdout",
     "output_type": "stream",
     "text": [
      "Lnh egoFa nurP nnyiits\n",
      "a few years turned into more years, and more years turned into all years. years have a habit of behaving like that.\n"
     ]
    }
   ],
   "source": [
    "msg = TranspositionCipher(key,message)\n",
    "msg1 = print(msg.encrypt_message(6,\"Learning Python is Fun\"))\n",
    "msg1\n",
    "\n",
    "msg2 = TranspositionCipher(key,message)\n",
    "msg2 = print(msg2.decrypt_message(10,\"asnem trhivt  taotosatihftorru .v naeu sera eogtwrm, nly f . no yelea lyeraed a biedena yrheka  driesaheriy sna ba \"))\n",
    "msg2         "
   ]
  },
  {
   "cell_type": "markdown",
   "id": "2c4e8503",
   "metadata": {},
   "source": [
    "# Hack the transposition cipher (optional)"
   ]
  },
  {
   "cell_type": "code",
   "execution_count": null,
   "id": "54134ab4",
   "metadata": {},
   "outputs": [],
   "source": [
    "def hack_cipher(message_enc):\n",
    "    pass"
   ]
  }
 ],
 "metadata": {
  "kernelspec": {
   "display_name": "Python 3",
   "language": "python",
   "name": "python3"
  },
  "language_info": {
   "codemirror_mode": {
    "name": "ipython",
    "version": 3
   },
   "file_extension": ".py",
   "mimetype": "text/x-python",
   "name": "python",
   "nbconvert_exporter": "python",
   "pygments_lexer": "ipython3",
   "version": "3.8.8"
  }
 },
 "nbformat": 4,
 "nbformat_minor": 5
}
